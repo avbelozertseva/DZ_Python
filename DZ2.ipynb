{
  "nbformat": 4,
  "nbformat_minor": 0,
  "metadata": {
    "colab": {
      "name": "DZ2.ipynb",
      "provenance": [],
      "authorship_tag": "ABX9TyPhFepgSTKrLix5eqvf5n4T",
      "include_colab_link": true
    },
    "kernelspec": {
      "name": "python3",
      "display_name": "Python 3"
    },
    "language_info": {
      "name": "python"
    }
  },
  "cells": [
    {
      "cell_type": "markdown",
      "metadata": {
        "id": "view-in-github",
        "colab_type": "text"
      },
      "source": [
        "<a href=\"https://colab.research.google.com/github/avbelozertseva/DZ_Pyton/blob/lesson-2/DZ2.ipynb\" target=\"_parent\"><img src=\"https://colab.research.google.com/assets/colab-badge.svg\" alt=\"Open In Colab\"/></a>"
      ]
    },
    {
      "cell_type": "markdown",
      "metadata": {
        "id": "wSCFUBOXB0uw"
      },
      "source": [
        "1. Создать список и заполнить его элементами различных типов данных. Реализовать скрипт проверки типа данных каждого элемента. Использовать функцию type() для проверки типа. Элементы списка можно не запрашивать у пользователя, а указать явно, в программе."
      ]
    },
    {
      "cell_type": "code",
      "metadata": {
        "colab": {
          "base_uri": "https://localhost:8080/"
        },
        "id": "oAAIusbEB1eX",
        "outputId": "0e7caadd-ea01-4912-ea35-6a8c205808d9"
      },
      "source": [
        "list_first = ['Текст', 1, 3==3, 1.5, [7,5,8]]\n",
        "print(list_first)\n",
        "for el in list_first:\n",
        "    print(type(el))"
      ],
      "execution_count": null,
      "outputs": [
        {
          "output_type": "stream",
          "name": "stdout",
          "text": [
            "['Текст', 1, True, 1.5, [7, 5, 8]]\n",
            "<class 'str'>\n",
            "<class 'int'>\n",
            "<class 'bool'>\n",
            "<class 'float'>\n",
            "<class 'list'>\n"
          ]
        }
      ]
    },
    {
      "cell_type": "markdown",
      "metadata": {
        "id": "CdVefzK7B9I9"
      },
      "source": [
        "2. Для списка реализовать обмен значений соседних элементов, т.е. Значениями обмениваются элементы с индексами 0 и 1, 2 и 3 и т.д. При нечетном количестве элементов последний сохранить на своем месте. Для заполнения списка элементов необходимо использовать функцию input().\n"
      ]
    },
    {
      "cell_type": "code",
      "metadata": {
        "colab": {
          "base_uri": "https://localhost:8080/"
        },
        "id": "MUVarby3KQtE",
        "outputId": "b346a2f6-643d-4a53-8008-d0df9037110d"
      },
      "source": [
        "print('Давай создадим список!')\n",
        "len_list_second = int(input('Сколько в нем будет пунктов? - '))\n",
        "list_second = []\n",
        "while len(list_second) < len_list_second:\n",
        "    list_second.append(input('Введи значение списка: '))\n",
        "print('Вот что получилось:')\n",
        "print(list_second)\n",
        "print('А теперь меняем местами пункты четные с нечетными друг за другом')\n",
        "i=1\n",
        "while i<len(list_second):\n",
        "    list_second[i-1], list_second[i] = list_second[i], list_second[i-1]\n",
        "    i += 2\n",
        "print (list_second)"
      ],
      "execution_count": null,
      "outputs": [
        {
          "output_type": "stream",
          "name": "stdout",
          "text": [
            "Давай создадим список!\n",
            "Сколько в нем будет пунктов? - 8\n",
            "Введи значение списка: 1\n",
            "Введи значение списка: 2\n",
            "Введи значение списка: 3\n",
            "Введи значение списка: 4\n",
            "Введи значение списка: 5\n",
            "Введи значение списка: 6\n",
            "Введи значение списка: 7\n",
            "Введи значение списка: 8\n",
            "Вот что получилось:\n",
            "['1', '2', '3', '4', '5', '6', '7', '8']\n",
            "А теперь меняем местами пункты четные с нечетными друг за другом\n",
            "['2', '1', '4', '3', '6', '5', '8', '7']\n"
          ]
        }
      ]
    },
    {
      "cell_type": "markdown",
      "metadata": {
        "id": "d3NVcoG6KmlG"
      },
      "source": [
        "3. Пользователь вводит месяц в виде целого числа от 1 до 12. Сообщить к какому времени года относится месяц (зима, весна, лето, осень). Напишите решения через list и через dict."
      ]
    },
    {
      "cell_type": "code",
      "metadata": {
        "colab": {
          "base_uri": "https://localhost:8080/"
        },
        "id": "2tlaTeIrWoQV",
        "outputId": "011ae983-b7ed-4bc7-a0aa-23b2b784da3e"
      },
      "source": [
        "list_season = ['Зима','Весна','Лето','Осень']\n",
        "dict_season = {1: 'Зима', 2: 'Зима', 3 : 'Весна', 4 : 'Весна', 5:'Весна', 6:'Лето', 7:'Лето', 8:'Лето', 9:'Осень', 10:'Осень', 11:'Осень', 12:'Зима'}\n",
        "month_num = int(input('Введи номер месяца: '))\n",
        "if month_num > 12:\n",
        "    print('Попробуй еще раз. В году 12 месяцев!')\n",
        "else:\n",
        "    #при помощи словаря:\n",
        "    print(dict_season.get(month_num))\n",
        "    #при помощи списка:\n",
        "    if month_num == 12 or month_num == 1 or month_num == 2:\n",
        "        print(list_season[0])\n",
        "    elif month_num == 3 or month_num == 4 or month_num == 5:\n",
        "        print(list_season[1])\n",
        "    elif month_num == 6 or month_num == 7 or month_num == 8:\n",
        "        print(list_season[2])\n",
        "    elif month_num == 9 or month_num == 10 or month_num == 11:\n",
        "        print(list_season[3])"
      ],
      "execution_count": null,
      "outputs": [
        {
          "output_type": "stream",
          "name": "stdout",
          "text": [
            "Введи номер месяца: 11\n",
            "Осень\n",
            "Осень\n"
          ]
        }
      ]
    },
    {
      "cell_type": "markdown",
      "metadata": {
        "id": "e3fILqNGfahI"
      },
      "source": [
        "4. Пользователь вводит строку из нескольких слов, разделённых пробелами. Вывести каждое слово с новой строки. Строки необходимо пронумеровать. Если в слово длинное, выводить только первые 10 букв в слове."
      ]
    },
    {
      "cell_type": "code",
      "metadata": {
        "colab": {
          "base_uri": "https://localhost:8080/"
        },
        "id": "nX25N3lefwcj",
        "outputId": "ac19cd05-f7fe-409f-c3c2-d0db9a58331b"
      },
      "source": [
        "str_four = input('Введи несколько слов с пробелами: ')\n",
        "for pos, el in enumerate(str_four.split(), 1):\n",
        "    print(pos, el[:10:])"
      ],
      "execution_count": null,
      "outputs": [
        {
          "output_type": "stream",
          "name": "stdout",
          "text": [
            "Введи несколько слов с пробелами: пранв оаурадлорыдагрдлрлвы гро\n",
            "1 пранв\n",
            "2 оаурадлоры\n",
            "3 гро\n"
          ]
        }
      ]
    },
    {
      "cell_type": "markdown",
      "metadata": {
        "id": "guC9SE3LznFv"
      },
      "source": [
        "5. Реализовать структуру «Рейтинг», представляющую собой не возрастающий набор натуральных чисел. У пользователя необходимо запрашивать новый элемент рейтинга. Если в рейтинге существуют элементы с одинаковыми значениями, то новый элемент с тем же значением должен разместиться после них.\n",
        "Подсказка. Например, набор натуральных чисел: 7, 5, 3, 3, 2.\n",
        "Пользователь ввел число 3. Результат: 7, 5, 3, 3, 3, 2.\n",
        "Пользователь ввел число 8. Результат: 8, 7, 5, 3, 3, 2.\n",
        "Пользователь ввел число 1. Результат: 7, 5, 3, 3, 2, 1.\n",
        "Набор натуральных чисел можно задать непосредственно в коде, например, my_list = [7, 5, 3, 3, 2]."
      ]
    },
    {
      "cell_type": "code",
      "metadata": {
        "colab": {
          "base_uri": "https://localhost:8080/"
        },
        "id": "u-shVwMzzoYk",
        "outputId": "5298601d-8b3e-48cd-8e7c-80a9aa520d4f"
      },
      "source": [
        "list_five = [9, 8, 6, 6, 3, 1]\n",
        "print(f'Наш рейтинг: {list_five}')\n",
        "el_five = int(input('Введи цифру рейтинга от 1 до 9: '))\n",
        "if el_five < 1 or el_five > 9:\n",
        "    print('Это число не входит в запрашиваемый диапазон... Вернись и повтори еще раз.')\n",
        "else:\n",
        "    i = 0\n",
        "    while i < len(list_five):\n",
        "        if el_five > list_five[i] and i == 0:\n",
        "            list_five.insert(i, el_five)\n",
        "            i += 2\n",
        "        elif el_five < list_five[i] and el_five > list_five[i+1]:\n",
        "            list_five.insert(i+1, el_five)\n",
        "            i += 2\n",
        "        elif el_five == list_five[i]:\n",
        "            list_five.insert(i+list_five.count(list_five[i]), el_five)\n",
        "            i = i + list_five.count(list_five[i])+1\n",
        "        else:\n",
        "            i+=1\n",
        "print(list_five)\n"
      ],
      "execution_count": null,
      "outputs": [
        {
          "output_type": "stream",
          "name": "stdout",
          "text": [
            "Наш рейтинг: [9, 8, 6, 6, 3, 1]\n",
            "Введи цифру рейтинга от 1 до 9: 8\n",
            "[9, 8, 8, 6, 6, 3, 1]\n"
          ]
        }
      ]
    },
    {
      "cell_type": "markdown",
      "metadata": {
        "id": "B3rad6UCtD_1"
      },
      "source": [
        "6. * Реализовать структуру данных «Товары». Она должна представлять собой список кортежей. Каждый кортеж хранит информацию об отдельном товаре. В кортеже должно быть два элемента — номер товара и словарь с параметрами (характеристиками товара: название, цена, количество, единица измерения). Структуру нужно сформировать программно, т.е. запрашивать все данные у пользователя.\n",
        "Пример готовой структуры:\n",
        "[\n",
        "(1, {“название”: “компьютер”, “цена”: 20000, “количество”: 5, “eд”: “шт.”}),\n",
        "(2, {“название”: “принтер”, “цена”: 6000, “количество”: 2, “eд”: “шт.”}), \n",
        "(3, {“название”: “сканер”, “цена”: 2000, “количество”: 7, “eд”: “шт.”})\n",
        "]\n",
        "Необходимо собрать аналитику о товарах. Реализовать словарь, в котором каждый ключ — характеристика товара, например название, а значение — список значений-характеристик, например список названий товаров.\n",
        "Пример:\n",
        "{\n",
        "“название”: [“компьютер”, “принтер”, “сканер”],\n",
        "“цена”: [20000, 6000, 2000],\n",
        "“количество”: [5, 2, 7],\n",
        "“ед”: [“шт.”]\n",
        "}"
      ]
    },
    {
      "cell_type": "code",
      "metadata": {
        "colab": {
          "base_uri": "https://localhost:8080/",
          "height": 555
        },
        "id": "fWjPKcf4tLOG",
        "outputId": "f8c18aee-fc33-454d-9d82-588de9640bb7"
      },
      "source": [
        "prod_list=[]\n",
        "print('Предлагаю тебе завести номенклатуру товаров твоего магазина: ')\n",
        "print()\n",
        "j = 1\n",
        "assort = []\n",
        "ans = 1\n",
        "name = 'название'\n",
        "price = 'цена'\n",
        "num = 'количество'\n",
        "ediz = 'единица'\n",
        "analisys = {name:[], price:[], num:[], ediz:[]}\n",
        "while ans == 1:\n",
        "    prod_list.append({name: input('Название товара: '),\n",
        "                      price: float(input('Цена: ')),\n",
        "                      num: int(input('Количество: ')),\n",
        "                      ediz: input('Единица измерения: ')})\n",
        "    assort.append((j, prod_list[j-1]))\n",
        "    for u in prod_list[j-1].keys():\n",
        "        analisys[u].append(prod_list[j-1][u])\n",
        "    j += 1\n",
        "    ans = int(input('Желаешь завести еще карточку товара? (1 - Да, 2- Нет): '))\n",
        "    print()\n",
        "print('Структура данных о товарах:')\n",
        "print('-' * 125)\n",
        "for asel in assort:\n",
        "    print(asel)\n",
        "print()\n",
        "print('Аналитика о товарах:')\n",
        "for key in analisys.keys():\n",
        "    print('-' * 125)\n",
        "    print(f'{key}: {analisys.get(key)}')"
      ],
      "execution_count": null,
      "outputs": [
        {
          "output_type": "stream",
          "name": "stdout",
          "text": [
            "Предлагаю тебе завести номенклатуру товаров твоего магазина: \n",
            "\n"
          ]
        },
        {
          "output_type": "error",
          "ename": "KeyboardInterrupt",
          "evalue": "ignored",
          "traceback": [
            "\u001b[0;31m---------------------------------------------------------------------------\u001b[0m",
            "\u001b[0;31mKeyboardInterrupt\u001b[0m                         Traceback (most recent call last)",
            "\u001b[0;32m/usr/local/lib/python3.7/dist-packages/ipykernel/kernelbase.py\u001b[0m in \u001b[0;36m_input_request\u001b[0;34m(self, prompt, ident, parent, password)\u001b[0m\n\u001b[1;32m    728\u001b[0m             \u001b[0;32mtry\u001b[0m\u001b[0;34m:\u001b[0m\u001b[0;34m\u001b[0m\u001b[0;34m\u001b[0m\u001b[0m\n\u001b[0;32m--> 729\u001b[0;31m                 \u001b[0mident\u001b[0m\u001b[0;34m,\u001b[0m \u001b[0mreply\u001b[0m \u001b[0;34m=\u001b[0m \u001b[0mself\u001b[0m\u001b[0;34m.\u001b[0m\u001b[0msession\u001b[0m\u001b[0;34m.\u001b[0m\u001b[0mrecv\u001b[0m\u001b[0;34m(\u001b[0m\u001b[0mself\u001b[0m\u001b[0;34m.\u001b[0m\u001b[0mstdin_socket\u001b[0m\u001b[0;34m,\u001b[0m \u001b[0;36m0\u001b[0m\u001b[0;34m)\u001b[0m\u001b[0;34m\u001b[0m\u001b[0;34m\u001b[0m\u001b[0m\n\u001b[0m\u001b[1;32m    730\u001b[0m             \u001b[0;32mexcept\u001b[0m \u001b[0mException\u001b[0m\u001b[0;34m:\u001b[0m\u001b[0;34m\u001b[0m\u001b[0;34m\u001b[0m\u001b[0m\n",
            "\u001b[0;32m/usr/local/lib/python3.7/dist-packages/jupyter_client/session.py\u001b[0m in \u001b[0;36mrecv\u001b[0;34m(self, socket, mode, content, copy)\u001b[0m\n\u001b[1;32m    802\u001b[0m         \u001b[0;32mtry\u001b[0m\u001b[0;34m:\u001b[0m\u001b[0;34m\u001b[0m\u001b[0;34m\u001b[0m\u001b[0m\n\u001b[0;32m--> 803\u001b[0;31m             \u001b[0mmsg_list\u001b[0m \u001b[0;34m=\u001b[0m \u001b[0msocket\u001b[0m\u001b[0;34m.\u001b[0m\u001b[0mrecv_multipart\u001b[0m\u001b[0;34m(\u001b[0m\u001b[0mmode\u001b[0m\u001b[0;34m,\u001b[0m \u001b[0mcopy\u001b[0m\u001b[0;34m=\u001b[0m\u001b[0mcopy\u001b[0m\u001b[0;34m)\u001b[0m\u001b[0;34m\u001b[0m\u001b[0;34m\u001b[0m\u001b[0m\n\u001b[0m\u001b[1;32m    804\u001b[0m         \u001b[0;32mexcept\u001b[0m \u001b[0mzmq\u001b[0m\u001b[0;34m.\u001b[0m\u001b[0mZMQError\u001b[0m \u001b[0;32mas\u001b[0m \u001b[0me\u001b[0m\u001b[0;34m:\u001b[0m\u001b[0;34m\u001b[0m\u001b[0;34m\u001b[0m\u001b[0m\n",
            "\u001b[0;32m/usr/local/lib/python3.7/dist-packages/zmq/sugar/socket.py\u001b[0m in \u001b[0;36mrecv_multipart\u001b[0;34m(self, flags, copy, track)\u001b[0m\n\u001b[1;32m    624\u001b[0m         \"\"\"\n\u001b[0;32m--> 625\u001b[0;31m         \u001b[0mparts\u001b[0m \u001b[0;34m=\u001b[0m \u001b[0;34m[\u001b[0m\u001b[0mself\u001b[0m\u001b[0;34m.\u001b[0m\u001b[0mrecv\u001b[0m\u001b[0;34m(\u001b[0m\u001b[0mflags\u001b[0m\u001b[0;34m,\u001b[0m \u001b[0mcopy\u001b[0m\u001b[0;34m=\u001b[0m\u001b[0mcopy\u001b[0m\u001b[0;34m,\u001b[0m \u001b[0mtrack\u001b[0m\u001b[0;34m=\u001b[0m\u001b[0mtrack\u001b[0m\u001b[0;34m)\u001b[0m\u001b[0;34m]\u001b[0m\u001b[0;34m\u001b[0m\u001b[0;34m\u001b[0m\u001b[0m\n\u001b[0m\u001b[1;32m    626\u001b[0m         \u001b[0;31m# have first part already, only loop while more to receive\u001b[0m\u001b[0;34m\u001b[0m\u001b[0;34m\u001b[0m\u001b[0;34m\u001b[0m\u001b[0m\n",
            "\u001b[0;32mzmq/backend/cython/socket.pyx\u001b[0m in \u001b[0;36mzmq.backend.cython.socket.Socket.recv\u001b[0;34m()\u001b[0m\n",
            "\u001b[0;32mzmq/backend/cython/socket.pyx\u001b[0m in \u001b[0;36mzmq.backend.cython.socket.Socket.recv\u001b[0;34m()\u001b[0m\n",
            "\u001b[0;32mzmq/backend/cython/socket.pyx\u001b[0m in \u001b[0;36mzmq.backend.cython.socket._recv_copy\u001b[0;34m()\u001b[0m\n",
            "\u001b[0;32m/usr/local/lib/python3.7/dist-packages/zmq/backend/cython/checkrc.pxd\u001b[0m in \u001b[0;36mzmq.backend.cython.checkrc._check_rc\u001b[0;34m()\u001b[0m\n",
            "\u001b[0;31mKeyboardInterrupt\u001b[0m: ",
            "\nDuring handling of the above exception, another exception occurred:\n",
            "\u001b[0;31mKeyboardInterrupt\u001b[0m                         Traceback (most recent call last)",
            "\u001b[0;32m<ipython-input-8-6cc0c7c8a950>\u001b[0m in \u001b[0;36m<module>\u001b[0;34m()\u001b[0m\n\u001b[1;32m     11\u001b[0m \u001b[0manalisys\u001b[0m \u001b[0;34m=\u001b[0m \u001b[0;34m{\u001b[0m\u001b[0mname\u001b[0m\u001b[0;34m:\u001b[0m\u001b[0;34m[\u001b[0m\u001b[0;34m]\u001b[0m\u001b[0;34m,\u001b[0m \u001b[0mprice\u001b[0m\u001b[0;34m:\u001b[0m\u001b[0;34m[\u001b[0m\u001b[0;34m]\u001b[0m\u001b[0;34m,\u001b[0m \u001b[0mnum\u001b[0m\u001b[0;34m:\u001b[0m\u001b[0;34m[\u001b[0m\u001b[0;34m]\u001b[0m\u001b[0;34m,\u001b[0m \u001b[0mediz\u001b[0m\u001b[0;34m:\u001b[0m\u001b[0;34m[\u001b[0m\u001b[0;34m]\u001b[0m\u001b[0;34m}\u001b[0m\u001b[0;34m\u001b[0m\u001b[0;34m\u001b[0m\u001b[0m\n\u001b[1;32m     12\u001b[0m \u001b[0;32mwhile\u001b[0m \u001b[0mans\u001b[0m \u001b[0;34m==\u001b[0m \u001b[0;36m1\u001b[0m\u001b[0;34m:\u001b[0m\u001b[0;34m\u001b[0m\u001b[0;34m\u001b[0m\u001b[0m\n\u001b[0;32m---> 13\u001b[0;31m     prod_list.append({name: input('Название товара: '),\n\u001b[0m\u001b[1;32m     14\u001b[0m                       \u001b[0mprice\u001b[0m\u001b[0;34m:\u001b[0m \u001b[0mfloat\u001b[0m\u001b[0;34m(\u001b[0m\u001b[0minput\u001b[0m\u001b[0;34m(\u001b[0m\u001b[0;34m'Цена: '\u001b[0m\u001b[0;34m)\u001b[0m\u001b[0;34m)\u001b[0m\u001b[0;34m,\u001b[0m\u001b[0;34m\u001b[0m\u001b[0;34m\u001b[0m\u001b[0m\n\u001b[1;32m     15\u001b[0m                       \u001b[0mnum\u001b[0m\u001b[0;34m:\u001b[0m \u001b[0mint\u001b[0m\u001b[0;34m(\u001b[0m\u001b[0minput\u001b[0m\u001b[0;34m(\u001b[0m\u001b[0;34m'Количество: '\u001b[0m\u001b[0;34m)\u001b[0m\u001b[0;34m)\u001b[0m\u001b[0;34m,\u001b[0m\u001b[0;34m\u001b[0m\u001b[0;34m\u001b[0m\u001b[0m\n",
            "\u001b[0;32m/usr/local/lib/python3.7/dist-packages/ipykernel/kernelbase.py\u001b[0m in \u001b[0;36mraw_input\u001b[0;34m(self, prompt)\u001b[0m\n\u001b[1;32m    702\u001b[0m             \u001b[0mself\u001b[0m\u001b[0;34m.\u001b[0m\u001b[0m_parent_ident\u001b[0m\u001b[0;34m,\u001b[0m\u001b[0;34m\u001b[0m\u001b[0;34m\u001b[0m\u001b[0m\n\u001b[1;32m    703\u001b[0m             \u001b[0mself\u001b[0m\u001b[0;34m.\u001b[0m\u001b[0m_parent_header\u001b[0m\u001b[0;34m,\u001b[0m\u001b[0;34m\u001b[0m\u001b[0;34m\u001b[0m\u001b[0m\n\u001b[0;32m--> 704\u001b[0;31m             \u001b[0mpassword\u001b[0m\u001b[0;34m=\u001b[0m\u001b[0;32mFalse\u001b[0m\u001b[0;34m,\u001b[0m\u001b[0;34m\u001b[0m\u001b[0;34m\u001b[0m\u001b[0m\n\u001b[0m\u001b[1;32m    705\u001b[0m         )\n\u001b[1;32m    706\u001b[0m \u001b[0;34m\u001b[0m\u001b[0m\n",
            "\u001b[0;32m/usr/local/lib/python3.7/dist-packages/ipykernel/kernelbase.py\u001b[0m in \u001b[0;36m_input_request\u001b[0;34m(self, prompt, ident, parent, password)\u001b[0m\n\u001b[1;32m    732\u001b[0m             \u001b[0;32mexcept\u001b[0m \u001b[0mKeyboardInterrupt\u001b[0m\u001b[0;34m:\u001b[0m\u001b[0;34m\u001b[0m\u001b[0;34m\u001b[0m\u001b[0m\n\u001b[1;32m    733\u001b[0m                 \u001b[0;31m# re-raise KeyboardInterrupt, to truncate traceback\u001b[0m\u001b[0;34m\u001b[0m\u001b[0;34m\u001b[0m\u001b[0;34m\u001b[0m\u001b[0m\n\u001b[0;32m--> 734\u001b[0;31m                 \u001b[0;32mraise\u001b[0m \u001b[0mKeyboardInterrupt\u001b[0m\u001b[0;34m\u001b[0m\u001b[0;34m\u001b[0m\u001b[0m\n\u001b[0m\u001b[1;32m    735\u001b[0m             \u001b[0;32melse\u001b[0m\u001b[0;34m:\u001b[0m\u001b[0;34m\u001b[0m\u001b[0;34m\u001b[0m\u001b[0m\n\u001b[1;32m    736\u001b[0m                 \u001b[0;32mbreak\u001b[0m\u001b[0;34m\u001b[0m\u001b[0;34m\u001b[0m\u001b[0m\n",
            "\u001b[0;31mKeyboardInterrupt\u001b[0m: "
          ]
        }
      ]
    }
  ]
}