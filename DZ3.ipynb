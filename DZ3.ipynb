{
  "nbformat": 4,
  "nbformat_minor": 0,
  "metadata": {
    "colab": {
      "name": "DZ3.ipynb",
      "provenance": [],
      "collapsed_sections": [],
      "authorship_tag": "ABX9TyO+Jcxmde/EFguZGviwUOxS",
      "include_colab_link": true
    },
    "kernelspec": {
      "name": "python3",
      "display_name": "Python 3"
    },
    "language_info": {
      "name": "python"
    }
  },
  "cells": [
    {
      "cell_type": "markdown",
      "metadata": {
        "id": "view-in-github",
        "colab_type": "text"
      },
      "source": [
        "<a href=\"https://colab.research.google.com/github/avbelozertseva/DZ_Pyton/blob/lesson-3/DZ3.ipynb\" target=\"_parent\"><img src=\"https://colab.research.google.com/assets/colab-badge.svg\" alt=\"Open In Colab\"/></a>"
      ]
    },
    {
      "cell_type": "markdown",
      "metadata": {
        "id": "UkqYGzbMhFme"
      },
      "source": [
        "1. Реализовать функцию, принимающую два числа (позиционные аргументы) и выполняющую их деление. Числа запрашивать у пользователя, предусмотреть обработку ситуации деления на ноль."
      ]
    },
    {
      "cell_type": "code",
      "metadata": {
        "id": "0ukT4AGahKDv"
      },
      "source": [
        "#@title\n",
        "def func(arg1, arg2):\n",
        "    if arg2 == 0:\n",
        "        rez = 'На ноль делить нельзя'\n",
        "    else:\n",
        "        rez = arg1/arg2\n",
        "    return rez\n",
        "\n",
        "print(f'Результат деления: {func(int(input(\"Введите делимое: \")),int(input(\"Введите делитель: \")) )}')"
      ],
      "execution_count": null,
      "outputs": []
    },
    {
      "cell_type": "markdown",
      "metadata": {
        "id": "njTYXzvkhRlb"
      },
      "source": [
        "2. Реализовать функцию, принимающую несколько параметров, описывающих данные пользователя: имя, фамилия, год рождения, город проживания, email, телефон. Функция должна принимать параметры как именованные аргументы. Реализовать вывод данных о пользователе одной строкой."
      ]
    },
    {
      "cell_type": "code",
      "metadata": {
        "id": "Bf7lz-exhT0d"
      },
      "source": [
        "def user(surname,name,year,city,mail,tel):\n",
        "    return print(f'Фамилия: {surname}, имя: {name}, год рождения: {year}, город проживания: {city}, телефон: {tel}, e-mail: {mail}')\n",
        "    \n",
        "user(name = input('Ваше имя: '),\n",
        "     surname = input('Ваша фамилия: '),\n",
        "     year = input('Год Вашего рождения: '),\n",
        "     city = input('Город Вашего проживания: '),\n",
        "     mail = input('Ваш email: '),\n",
        "     tel = input('Номер Вашего телефона: '))"
      ],
      "execution_count": null,
      "outputs": []
    },
    {
      "cell_type": "markdown",
      "metadata": {
        "id": "1AX2drVTjYpJ"
      },
      "source": [
        "3. Реализовать функцию my_func(), которая принимает три позиционных аргумента, и возвращает сумму наибольших двух аргументов."
      ]
    },
    {
      "cell_type": "code",
      "metadata": {
        "id": "6jZnuuocjg57"
      },
      "source": [
        "def my_func(arg1, arg2, arg3):\n",
        "    if arg1 == arg2 and arg2 == arg3:\n",
        "        rez = 'Все числа одинаковы. Найти сумму наибольших - проблематично.'\n",
        "    else:\n",
        "        my_list = [arg1, arg2, arg3]\n",
        "        my_sum = sum(my_list) - min(my_list)\n",
        "        rez = f'Сумма наибольших чисел = {my_sum}'\n",
        "    return rez\n",
        "    \n",
        "print('Введи 3 числа: ')\n",
        "a = int(input('1. '))\n",
        "b = int(input('2. '))\n",
        "c = int(input('3. '))\n",
        "print(my_func(a,b,c))"
      ],
      "execution_count": null,
      "outputs": []
    },
    {
      "cell_type": "markdown",
      "metadata": {
        "id": "FafLI-fTjnyl"
      },
      "source": [
        "4. Программа принимает действительное положительное число x и целое отрицательное число y. Необходимо выполнить возведение числа x в степень y. Задание необходимо реализовать в виде функции my_func(x, y). При решении задания необходимо обойтись без встроенной функции возведения числа в степень.\n",
        "Подсказка: попробуйте решить задачу двумя способами. \n",
        "\n",
        "Первый — возведение в степень с помощью оператора **. \n",
        "\n",
        "Второй — более сложная реализация без оператора **\n",
        ", предусматривающая использование цикла.\n",
        "\n",
        "***Реализвала только с помощью цикла***"
      ]
    },
    {
      "cell_type": "code",
      "metadata": {
        "id": "s_hKYaokjqUa"
      },
      "source": [
        "def my_funcst(arg1,arg2):\n",
        "    if arg2 >=0:\n",
        "        rez = 'Степень должна быть отрицательной.'\n",
        "    else:\n",
        "        rez = 1\n",
        "        i = 1\n",
        "        while i <= abs(arg2):\n",
        "            rez /= arg1\n",
        "            i +=1\n",
        "    return rez\n",
        "x = int(input('Введите положительное число, которое будем возводить в степень: '))\n",
        "y = int(input('Введите отрицательное число, которое будет являться степенью: '))\n",
        "print(f'Результат возведения {x} в степень {y}: {my_funcst(x, y)}')"
      ],
      "execution_count": null,
      "outputs": []
    },
    {
      "cell_type": "markdown",
      "metadata": {
        "id": "x3Mbyj51khYB"
      },
      "source": [
        "5. Программа запрашивает у пользователя строку чисел, разделенных пробелом. При нажатии Enter должна выводиться сумма чисел. Пользователь может продолжить ввод чисел, разделенных пробелом и снова нажать Enter. Сумма вновь введенных чисел будет добавляться к уже подсчитанной сумме. Но если вместо числа вводится специальный символ, выполнение программы завершается. Если специальный символ введен после нескольких чисел, то вначале нужно добавить сумму этих чисел к полученной ранее сумме и после этого завершить программу.\n",
        "\n",
        "***Реализовано без функции***"
      ]
    },
    {
      "cell_type": "code",
      "metadata": {
        "colab": {
          "base_uri": "https://localhost:8080/"
        },
        "id": "GLxz9FJmlUNT",
        "outputId": "c222572d-e00a-460b-b04d-b998191159a7"
      },
      "source": [
        "my_list = []\n",
        "i = -1\n",
        "while i == -1:\n",
        "    my_str = input('Введи числа через пробел (для завершения работы введи *): ')\n",
        "    if my_str.find('*') < 0:         #если в веденной строке нет спецсимвола *\n",
        "        my_str1 = my_str\n",
        "    elif my_str.find('*') == 0:      #если введен только спецсимвол *, то сразу выход\n",
        "        break\n",
        "    else:                            #если спецсимвол * после чисел, то обрабатываем числа, затем выходим\n",
        "        my_str1 = my_str[:my_str.find('*'):]\n",
        "        i = my_str.find('*')\n",
        "    for el in my_str1.split():\n",
        "        my_list.append(int(el))\n",
        "    print(f'Сумма всех чисел = {sum(my_list)}')"
      ],
      "execution_count": null,
      "outputs": [
        {
          "name": "stdout",
          "output_type": "stream",
          "text": [
            "Введи числа через пробел (для завершения работы введи *): 1 2 3\n",
            "Сумма всех чисел = 6\n",
            "Введи числа через пробел (для завершения работы введи *): *\n"
          ]
        }
      ]
    },
    {
      "cell_type": "markdown",
      "metadata": {
        "id": "9ClRosXKlgC1"
      },
      "source": [
        "6. Реализовать функцию int_func(), принимающую слово из маленьких латинских букв и возвращающую его же, но с прописной первой буквой. Например, print(int_func(‘text’)) -> Text.\n",
        "Продолжить работу над заданием. В программу должна попадать строка из слов, разделенных пробелом. Каждое слово состоит из латинских букв в нижнем регистре. Сделать вывод исходной строки, но каждое слово должно начинаться с заглавной буквы. Необходимо использовать написанную ранее функцию int_func()."
      ]
    },
    {
      "cell_type": "code",
      "metadata": {
        "id": "Lbe0NZagl9ol"
      },
      "source": [
        "def int_func(str):\n",
        "    return str.title()\n",
        "print(int_func(input('Введи слово/текст маленькими латинскими буквами: ')))"
      ],
      "execution_count": null,
      "outputs": []
    }
  ]
}